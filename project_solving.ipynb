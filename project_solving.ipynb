{
 "cells": [
  {
   "cell_type": "markdown",
   "metadata": {},
   "source": [
    "# OilyGiant Project "
   ]
  },
  {
   "cell_type": "markdown",
   "metadata": {},
   "source": [
    "## Introduction\n",
    "\n",
    "This project aims to determine the best locations to open 200 new oil wells in three candidate regions, maximizing profit margins and minimizing associated risks. To achieve this, geological data from each region will be analyzed using a linear regression model, which will allow for the prediction of reserve volumes in thousands of barrels for new wells. <br><br>\n",
    "\n",
    "The analysis will include the selection of wells with the highest production potential and a detailed assessment of benefits and risks using statistical techniques such as bootstrapping. Based on the results, the most promising region will be proposed for development, ensuring a loss risk of less than 2.5% and optimizing economic returns within the established budget of $100 million. <br><br>\n",
    "\n",
    "This structured, data-driven approach ensures informed decision-making for the sustainable development of energy resources."
   ]
  },
  {
   "cell_type": "markdown",
   "metadata": {},
   "source": [
    "## Development"
   ]
  },
  {
   "cell_type": "markdown",
   "metadata": {},
   "source": [
    "### Inspect data"
   ]
  },
  {
   "cell_type": "code",
   "execution_count": null,
   "metadata": {},
   "outputs": [],
   "source": [
    "# Library import \n",
    "\n",
    "import pandas as pd \n",
    "import numpy as np\n",
    "from sklearn.model_selection import train_test_split\n",
    "from sklearn.linear_model import LinearRegression\n",
    "from sklearn.metrics import root_mean_squared_error\n"
   ]
  },
  {
   "cell_type": "code",
   "execution_count": 28,
   "metadata": {},
   "outputs": [],
   "source": [
    "# Import data\n",
    "\n",
    "df_0= pd.read_csv('/Users/pauli/Documents/Data/oily_giant/geo_data_0.csv')\n",
    "df_1= pd.read_csv('/Users/pauli/Documents/Data/oily_giant/geo_data_1.csv')\n",
    "df_2= pd.read_csv('/Users/pauli/Documents/Data/oily_giant/geo_data_2.csv')"
   ]
  },
  {
   "cell_type": "code",
   "execution_count": 29,
   "metadata": {},
   "outputs": [
    {
     "data": {
      "text/html": [
       "<div>\n",
       "<style scoped>\n",
       "    .dataframe tbody tr th:only-of-type {\n",
       "        vertical-align: middle;\n",
       "    }\n",
       "\n",
       "    .dataframe tbody tr th {\n",
       "        vertical-align: top;\n",
       "    }\n",
       "\n",
       "    .dataframe thead th {\n",
       "        text-align: right;\n",
       "    }\n",
       "</style>\n",
       "<table border=\"1\" class=\"dataframe\">\n",
       "  <thead>\n",
       "    <tr style=\"text-align: right;\">\n",
       "      <th></th>\n",
       "      <th>id</th>\n",
       "      <th>f0</th>\n",
       "      <th>f1</th>\n",
       "      <th>f2</th>\n",
       "      <th>product</th>\n",
       "    </tr>\n",
       "  </thead>\n",
       "  <tbody>\n",
       "    <tr>\n",
       "      <th>0</th>\n",
       "      <td>txEyH</td>\n",
       "      <td>0.705745</td>\n",
       "      <td>-0.497823</td>\n",
       "      <td>1.221170</td>\n",
       "      <td>105.280062</td>\n",
       "    </tr>\n",
       "    <tr>\n",
       "      <th>1</th>\n",
       "      <td>2acmU</td>\n",
       "      <td>1.334711</td>\n",
       "      <td>-0.340164</td>\n",
       "      <td>4.365080</td>\n",
       "      <td>73.037750</td>\n",
       "    </tr>\n",
       "    <tr>\n",
       "      <th>2</th>\n",
       "      <td>409Wp</td>\n",
       "      <td>1.022732</td>\n",
       "      <td>0.151990</td>\n",
       "      <td>1.419926</td>\n",
       "      <td>85.265647</td>\n",
       "    </tr>\n",
       "    <tr>\n",
       "      <th>3</th>\n",
       "      <td>iJLyR</td>\n",
       "      <td>-0.032172</td>\n",
       "      <td>0.139033</td>\n",
       "      <td>2.978566</td>\n",
       "      <td>168.620776</td>\n",
       "    </tr>\n",
       "    <tr>\n",
       "      <th>4</th>\n",
       "      <td>Xdl7t</td>\n",
       "      <td>1.988431</td>\n",
       "      <td>0.155413</td>\n",
       "      <td>4.751769</td>\n",
       "      <td>154.036647</td>\n",
       "    </tr>\n",
       "  </tbody>\n",
       "</table>\n",
       "</div>"
      ],
      "text/plain": [
       "      id        f0        f1        f2     product\n",
       "0  txEyH  0.705745 -0.497823  1.221170  105.280062\n",
       "1  2acmU  1.334711 -0.340164  4.365080   73.037750\n",
       "2  409Wp  1.022732  0.151990  1.419926   85.265647\n",
       "3  iJLyR -0.032172  0.139033  2.978566  168.620776\n",
       "4  Xdl7t  1.988431  0.155413  4.751769  154.036647"
      ]
     },
     "execution_count": 29,
     "metadata": {},
     "output_type": "execute_result"
    }
   ],
   "source": [
    "# Inspect datasets\n",
    "\n",
    "df_0.head()"
   ]
  },
  {
   "cell_type": "code",
   "execution_count": 30,
   "metadata": {},
   "outputs": [
    {
     "name": "stdout",
     "output_type": "stream",
     "text": [
      "<class 'pandas.core.frame.DataFrame'>\n",
      "RangeIndex: 100000 entries, 0 to 99999\n",
      "Data columns (total 5 columns):\n",
      " #   Column   Non-Null Count   Dtype  \n",
      "---  ------   --------------   -----  \n",
      " 0   id       100000 non-null  object \n",
      " 1   f0       100000 non-null  float64\n",
      " 2   f1       100000 non-null  float64\n",
      " 3   f2       100000 non-null  float64\n",
      " 4   product  100000 non-null  float64\n",
      "dtypes: float64(4), object(1)\n",
      "memory usage: 3.8+ MB\n"
     ]
    }
   ],
   "source": [
    "df_0.info()"
   ]
  },
  {
   "cell_type": "code",
   "execution_count": 31,
   "metadata": {},
   "outputs": [
    {
     "data": {
      "text/plain": [
       "0"
      ]
     },
     "execution_count": 31,
     "metadata": {},
     "output_type": "execute_result"
    }
   ],
   "source": [
    "df_0.duplicated().sum()"
   ]
  },
  {
   "cell_type": "markdown",
   "metadata": {},
   "source": [
    "There is no duplicate data or null data, the data types correspond in DF 0."
   ]
  },
  {
   "cell_type": "code",
   "execution_count": 32,
   "metadata": {},
   "outputs": [
    {
     "data": {
      "text/html": [
       "<div>\n",
       "<style scoped>\n",
       "    .dataframe tbody tr th:only-of-type {\n",
       "        vertical-align: middle;\n",
       "    }\n",
       "\n",
       "    .dataframe tbody tr th {\n",
       "        vertical-align: top;\n",
       "    }\n",
       "\n",
       "    .dataframe thead th {\n",
       "        text-align: right;\n",
       "    }\n",
       "</style>\n",
       "<table border=\"1\" class=\"dataframe\">\n",
       "  <thead>\n",
       "    <tr style=\"text-align: right;\">\n",
       "      <th></th>\n",
       "      <th>id</th>\n",
       "      <th>f0</th>\n",
       "      <th>f1</th>\n",
       "      <th>f2</th>\n",
       "      <th>product</th>\n",
       "    </tr>\n",
       "  </thead>\n",
       "  <tbody>\n",
       "    <tr>\n",
       "      <th>0</th>\n",
       "      <td>kBEdx</td>\n",
       "      <td>-15.001348</td>\n",
       "      <td>-8.276000</td>\n",
       "      <td>-0.005876</td>\n",
       "      <td>3.179103</td>\n",
       "    </tr>\n",
       "    <tr>\n",
       "      <th>1</th>\n",
       "      <td>62mP7</td>\n",
       "      <td>14.272088</td>\n",
       "      <td>-3.475083</td>\n",
       "      <td>0.999183</td>\n",
       "      <td>26.953261</td>\n",
       "    </tr>\n",
       "    <tr>\n",
       "      <th>2</th>\n",
       "      <td>vyE1P</td>\n",
       "      <td>6.263187</td>\n",
       "      <td>-5.948386</td>\n",
       "      <td>5.001160</td>\n",
       "      <td>134.766305</td>\n",
       "    </tr>\n",
       "    <tr>\n",
       "      <th>3</th>\n",
       "      <td>KcrkZ</td>\n",
       "      <td>-13.081196</td>\n",
       "      <td>-11.506057</td>\n",
       "      <td>4.999415</td>\n",
       "      <td>137.945408</td>\n",
       "    </tr>\n",
       "    <tr>\n",
       "      <th>4</th>\n",
       "      <td>AHL4O</td>\n",
       "      <td>12.702195</td>\n",
       "      <td>-8.147433</td>\n",
       "      <td>5.004363</td>\n",
       "      <td>134.766305</td>\n",
       "    </tr>\n",
       "  </tbody>\n",
       "</table>\n",
       "</div>"
      ],
      "text/plain": [
       "      id         f0         f1        f2     product\n",
       "0  kBEdx -15.001348  -8.276000 -0.005876    3.179103\n",
       "1  62mP7  14.272088  -3.475083  0.999183   26.953261\n",
       "2  vyE1P   6.263187  -5.948386  5.001160  134.766305\n",
       "3  KcrkZ -13.081196 -11.506057  4.999415  137.945408\n",
       "4  AHL4O  12.702195  -8.147433  5.004363  134.766305"
      ]
     },
     "execution_count": 32,
     "metadata": {},
     "output_type": "execute_result"
    }
   ],
   "source": [
    "df_1.head()"
   ]
  },
  {
   "cell_type": "code",
   "execution_count": 33,
   "metadata": {},
   "outputs": [
    {
     "name": "stdout",
     "output_type": "stream",
     "text": [
      "<class 'pandas.core.frame.DataFrame'>\n",
      "RangeIndex: 100000 entries, 0 to 99999\n",
      "Data columns (total 5 columns):\n",
      " #   Column   Non-Null Count   Dtype  \n",
      "---  ------   --------------   -----  \n",
      " 0   id       100000 non-null  object \n",
      " 1   f0       100000 non-null  float64\n",
      " 2   f1       100000 non-null  float64\n",
      " 3   f2       100000 non-null  float64\n",
      " 4   product  100000 non-null  float64\n",
      "dtypes: float64(4), object(1)\n",
      "memory usage: 3.8+ MB\n"
     ]
    }
   ],
   "source": [
    "df_1.info()"
   ]
  },
  {
   "cell_type": "code",
   "execution_count": 34,
   "metadata": {},
   "outputs": [
    {
     "data": {
      "text/plain": [
       "0"
      ]
     },
     "execution_count": 34,
     "metadata": {},
     "output_type": "execute_result"
    }
   ],
   "source": [
    "df_1.duplicated().sum()"
   ]
  },
  {
   "cell_type": "markdown",
   "metadata": {},
   "source": [
    "There is no duplicate data or null data, the data types correspond in DF 1."
   ]
  },
  {
   "cell_type": "code",
   "execution_count": 35,
   "metadata": {},
   "outputs": [
    {
     "data": {
      "text/html": [
       "<div>\n",
       "<style scoped>\n",
       "    .dataframe tbody tr th:only-of-type {\n",
       "        vertical-align: middle;\n",
       "    }\n",
       "\n",
       "    .dataframe tbody tr th {\n",
       "        vertical-align: top;\n",
       "    }\n",
       "\n",
       "    .dataframe thead th {\n",
       "        text-align: right;\n",
       "    }\n",
       "</style>\n",
       "<table border=\"1\" class=\"dataframe\">\n",
       "  <thead>\n",
       "    <tr style=\"text-align: right;\">\n",
       "      <th></th>\n",
       "      <th>id</th>\n",
       "      <th>f0</th>\n",
       "      <th>f1</th>\n",
       "      <th>f2</th>\n",
       "      <th>product</th>\n",
       "    </tr>\n",
       "  </thead>\n",
       "  <tbody>\n",
       "    <tr>\n",
       "      <th>0</th>\n",
       "      <td>fwXo0</td>\n",
       "      <td>-1.146987</td>\n",
       "      <td>0.963328</td>\n",
       "      <td>-0.828965</td>\n",
       "      <td>27.758673</td>\n",
       "    </tr>\n",
       "    <tr>\n",
       "      <th>1</th>\n",
       "      <td>WJtFt</td>\n",
       "      <td>0.262778</td>\n",
       "      <td>0.269839</td>\n",
       "      <td>-2.530187</td>\n",
       "      <td>56.069697</td>\n",
       "    </tr>\n",
       "    <tr>\n",
       "      <th>2</th>\n",
       "      <td>ovLUW</td>\n",
       "      <td>0.194587</td>\n",
       "      <td>0.289035</td>\n",
       "      <td>-5.586433</td>\n",
       "      <td>62.871910</td>\n",
       "    </tr>\n",
       "    <tr>\n",
       "      <th>3</th>\n",
       "      <td>q6cA6</td>\n",
       "      <td>2.236060</td>\n",
       "      <td>-0.553760</td>\n",
       "      <td>0.930038</td>\n",
       "      <td>114.572842</td>\n",
       "    </tr>\n",
       "    <tr>\n",
       "      <th>4</th>\n",
       "      <td>WPMUX</td>\n",
       "      <td>-0.515993</td>\n",
       "      <td>1.716266</td>\n",
       "      <td>5.899011</td>\n",
       "      <td>149.600746</td>\n",
       "    </tr>\n",
       "  </tbody>\n",
       "</table>\n",
       "</div>"
      ],
      "text/plain": [
       "      id        f0        f1        f2     product\n",
       "0  fwXo0 -1.146987  0.963328 -0.828965   27.758673\n",
       "1  WJtFt  0.262778  0.269839 -2.530187   56.069697\n",
       "2  ovLUW  0.194587  0.289035 -5.586433   62.871910\n",
       "3  q6cA6  2.236060 -0.553760  0.930038  114.572842\n",
       "4  WPMUX -0.515993  1.716266  5.899011  149.600746"
      ]
     },
     "execution_count": 35,
     "metadata": {},
     "output_type": "execute_result"
    }
   ],
   "source": [
    "df_2.head()"
   ]
  },
  {
   "cell_type": "code",
   "execution_count": 36,
   "metadata": {},
   "outputs": [
    {
     "name": "stdout",
     "output_type": "stream",
     "text": [
      "<class 'pandas.core.frame.DataFrame'>\n",
      "RangeIndex: 100000 entries, 0 to 99999\n",
      "Data columns (total 5 columns):\n",
      " #   Column   Non-Null Count   Dtype  \n",
      "---  ------   --------------   -----  \n",
      " 0   id       100000 non-null  object \n",
      " 1   f0       100000 non-null  float64\n",
      " 2   f1       100000 non-null  float64\n",
      " 3   f2       100000 non-null  float64\n",
      " 4   product  100000 non-null  float64\n",
      "dtypes: float64(4), object(1)\n",
      "memory usage: 3.8+ MB\n"
     ]
    }
   ],
   "source": [
    "df_2.info()"
   ]
  },
  {
   "cell_type": "code",
   "execution_count": 37,
   "metadata": {},
   "outputs": [
    {
     "data": {
      "text/plain": [
       "0"
      ]
     },
     "execution_count": 37,
     "metadata": {},
     "output_type": "execute_result"
    }
   ],
   "source": [
    "df_2.duplicated().sum()"
   ]
  },
  {
   "cell_type": "code",
   "execution_count": 38,
   "metadata": {},
   "outputs": [],
   "source": [
    "# ID values ​​are removed from all DFs as they may be counterproductive to the model and do not identify an important feature.\n",
    "\n",
    "df_0 = df_0.drop(['id'], axis=1)\n",
    "df_1= df_1.drop(['id'], axis=1)\n",
    "df_2= df_2.drop(['id'], axis=1)"
   ]
  },
  {
   "cell_type": "code",
   "execution_count": 39,
   "metadata": {},
   "outputs": [
    {
     "name": "stdout",
     "output_type": "stream",
     "text": [
      "         f0        f1       f2     product\n",
      "0  0.705745 -0.497823  1.22117  105.280062\n",
      "1  1.334711 -0.340164  4.36508   73.037750\n",
      "          f0        f1        f2    product\n",
      "0 -15.001348 -8.276000 -0.005876   3.179103\n",
      "1  14.272088 -3.475083  0.999183  26.953261\n",
      "         f0        f1        f2    product\n",
      "0 -1.146987  0.963328 -0.828965  27.758673\n",
      "1  0.262778  0.269839 -2.530187  56.069697\n"
     ]
    }
   ],
   "source": [
    "#Check that it is correct\n",
    "\n",
    "print (df_0.head(2))\n",
    "print (df_1.head(2))\n",
    "print (df_2.head(2))"
   ]
  },
  {
   "cell_type": "markdown",
   "metadata": {},
   "source": [
    "### Model Training"
   ]
  },
  {
   "cell_type": "markdown",
   "metadata": {},
   "source": [
    "The model is trained with functions, so that it is easy to apply to all DFs."
   ]
  },
  {
   "cell_type": "code",
   "execution_count": 40,
   "metadata": {},
   "outputs": [],
   "source": [
    "#Prepare data for training\n",
    "\n",
    "def prepare_data(df):\n",
    "\n",
    "    features = df.drop(['product'], axis=1)\n",
    "    target = df['product']\n",
    "    return features, target\n"
   ]
  },
  {
   "cell_type": "code",
   "execution_count": 45,
   "metadata": {},
   "outputs": [],
   "source": [
    "#Divide the data into training and validation, train the model.\n",
    "\n",
    "def train_and_validate(features, target):\n",
    "    \"\"\"\n",
    "    Divides the data into training and validation (75:25).\n",
    "    Returns the trained model, predictions, actual responses, and RMSE.\n",
    "    \"\"\"\n",
    "    X_train, X_valid, y_train, y_valid = train_test_split(features, target, test_size=0.25, random_state=15)\n",
    "    \n",
    "    model = LinearRegression()\n",
    "    model.fit(X_train, y_train)\n",
    "    \n",
    "    predictions = model.predict(X_valid)\n",
    "    rmse = root_mean_squared_error(y_valid, predictions)\n",
    "    \n",
    "    return model, predictions, y_valid, rmse"
   ]
  },
  {
   "cell_type": "code",
   "execution_count": 46,
   "metadata": {},
   "outputs": [],
   "source": [
    "#Results analysis\n",
    "\n",
    "def analyze_results(predictions, y_valid):\n",
    "    \"\"\"\n",
    "Analyze the model results, showing the predicted average booking volume and RMSE.\n",
    "\"\"\"\n",
    "    avg_prediction = predictions.mean()\n",
    "    avg_actual = y_valid.mean()\n",
    "    print(f\"Predicted average booking volume: {avg_prediction:.2f}\")\n",
    "    print(f\"Average real booking volume: {avg_actual:.2f}\")"
   ]
  },
  {
   "cell_type": "code",
   "execution_count": 47,
   "metadata": {},
   "outputs": [],
   "source": [
    "# Implementar el proceso \n",
    "\n",
    "def process_region(data):\n",
    "    \"\"\"\n",
    "    Complete the entire process for a specific region:\n",
    "Prepare the data.\n",
    "Train and validate the model.\n",
    "Analyze the results.\n",
    "    \"\"\"\n",
    "    features, target = prepare_data(data)\n",
    "    model, predictions, y_valid, rmse = train_and_validate(features, target)\n",
    "    analyze_results(predictions, y_valid)\n",
    "    print(f\"RMSE: {rmse:.2f}\")\n",
    "    return model, predictions, y_valid\n",
    "\n"
   ]
  },
  {
   "cell_type": "code",
   "execution_count": 48,
   "metadata": {},
   "outputs": [
    {
     "name": "stdout",
     "output_type": "stream",
     "text": [
      "Predicted average booking volume: 92.64\n",
      "Average real booking volume: 92.42\n",
      "RMSE: 37.69\n",
      "Predicted average booking volume: 68.48\n",
      "Average real booking volume: 68.48\n",
      "RMSE: 0.89\n",
      "Predicted average booking volume: 95.24\n",
      "Average real booking volume: 95.29\n",
      "RMSE: 40.19\n"
     ]
    }
   ],
   "source": [
    "# Procesar cada región\n",
    "\n",
    "results_0 = process_region(df_0)\n",
    "results_1 =process_region(df_1)\n",
    "results_2 =process_region(df_2)"
   ]
  },
  {
   "cell_type": "markdown",
   "metadata": {},
   "source": [
    "In Region 0: The predicted mean reserves volume (92.42) is very close to the actual value, however, the RMSE (37.69) is relatively high, suggesting significant variability in the predictions. <br>\n",
    "In Region 1: The predicted mean reserves volume exactly matches the actual value, and the RMSE is very low (0.89), indicating that the predictions are consistently accurate and have little dispersion. <br>\n",
    "In Region 2: The RMSE (40.19) is the highest of the three regions, suggesting that the model struggles to accurately predict at the individual level in this region."
   ]
  },
  {
   "cell_type": "markdown",
   "metadata": {},
   "source": [
    "### Calculation of profits."
   ]
  },
  {
   "cell_type": "code",
   "execution_count": 49,
   "metadata": {},
   "outputs": [],
   "source": [
    "# Conditions\n",
    "\n",
    "budget = 100000000 #Investment budget\n",
    "num_wells = 200 #Number of wells\n",
    "min_profit_threshold = 111.1 #Minimum amount of barrel units to avoid losses\n",
    "unit_profit = 4500 #Income per barrel in USD\n",
    "\n",
    "\n",
    "\n",
    "def calculate_profit(predictions, num_wells, unit_profit, budget):\n",
    "    \"\"\"\n",
    "    Calculate the estimated net profit by selecting the most promising wells.\"\"\"\n",
    "    \n",
    "       # Select the wells with the largest estimated reserves\n",
    "    top_predictions = np.sort(predictions)[-num_wells:]\n",
    "    \n",
    "    # Calculate the total reserve volume of the selected wells\n",
    "    total_reserves = top_predictions.sum()\n",
    "    \n",
    "    # Calculate total income\n",
    "    revenue = total_reserves * unit_profit\n",
    "    \n",
    "    # Calculate the net profit\n",
    "    profit = revenue - budget\n",
    "    \n",
    "    return profit\n",
    "\n"
   ]
  },
  {
   "cell_type": "code",
   "execution_count": 50,
   "metadata": {},
   "outputs": [
    {
     "name": "stdout",
     "output_type": "stream",
     "text": [
      "Ganancia Region 0: $39,327,676.73\n",
      "Ganancia Region 1: $24,816,738.80\n",
      "Ganancia Region 2: $33,239,809.68\n"
     ]
    }
   ],
   "source": [
    "#Function application\n",
    "\n",
    "profit_df_0= calculate_profit(results_0[1], num_wells, unit_profit, budget)\n",
    "profit_df_1= calculate_profit(results_1[1], num_wells, unit_profit, budget)\n",
    "profit_df_2= calculate_profit(results_2[1], num_wells, unit_profit, budget)\n",
    "\n",
    "print(f\"Ganancia Region 0: ${profit_df_0:,.2f}\")\n",
    "print(f\"Ganancia Region 1: ${profit_df_1:,.2f}\")\n",
    "print(f\"Ganancia Region 2: ${profit_df_2:,.2f}\")"
   ]
  },
  {
   "cell_type": "markdown",
   "metadata": {},
   "source": [
    "To this point, all three regions are profitable to varying degrees. Region zero has the highest profit among the three analyzed, which could be due to a higher average reserve volume or better predictions in the selected wells."
   ]
  },
  {
   "cell_type": "markdown",
   "metadata": {},
   "source": [
    "### Risks and rewards for each region."
   ]
  },
  {
   "cell_type": "code",
   "execution_count": 51,
   "metadata": {},
   "outputs": [
    {
     "name": "stdout",
     "output_type": "stream",
     "text": [
      "\n",
      "Bootstrapping Results by Region:\n",
      "\n",
      "Región 0:\n",
      "Average profit: $39,319,931.58\n",
      "95% confidence interval: $38,150,912.33 - $40,529,896.83\n",
      "Loss risk: 0.00%\n",
      "\n",
      "Región 1:\n",
      "Average profit: $24,814,662.14\n",
      "95% confidence interval: $24,762,749.67 - $24,871,326.43\n",
      "Loss risk: 0.00%\n",
      "\n",
      "Región 2:\n",
      "Average profit: $33,221,063.85\n",
      "95% confidence interval: $32,316,278.17 - $34,151,158.86\n",
      "Loss risk: 0.00%\n"
     ]
    }
   ],
   "source": [
    "def bootstrap_profit(predictions, num_wells, unit_profit, budget, n_iterations=1000):\n",
    "    \"\"\"\n",
    "    Applies the bootstrapping technique to calculate the distribution of benefits.\n",
    "    \"\"\"\n",
    "    profits = []\n",
    "    for _ in range(n_iterations):\n",
    "        # Generate a random sample with replacement of the predictions\n",
    "        sample = np.random.choice(predictions, size=len(predictions), replace=True)\n",
    "        \n",
    "        # Calculate the profit with the generated sample\n",
    "        profit = calculate_profit(sample, num_wells, unit_profit, budget)\n",
    "        profits.append(profit)\n",
    "    \n",
    "    # Convert the list of benefits to a numpy array to make calculations easier\n",
    "    profits = np.array(profits)\n",
    "    \n",
    "    # Average profit\n",
    "    avg_profit = profits.mean()\n",
    "    \n",
    "    # 95% confidence interval\n",
    "    confidence_interval = np.percentile(profits, [2.5, 97.5])\n",
    "    \n",
    "    # Risk of loss (percentage of simulations with negative profit)\n",
    "    loss_risk = (profits < 0).mean() * 100\n",
    "    \n",
    "    return {\n",
    "        \"average_profit\": avg_profit,\n",
    "        \"confidence_interval\": confidence_interval,\n",
    "        \"loss_risk\": loss_risk\n",
    "    }\n",
    "\n",
    "# Applying bootstrapping to each region\n",
    "bootstrap_results_0 = bootstrap_profit(results_0[1], num_wells, unit_profit, budget)\n",
    "bootstrap_results_1 = bootstrap_profit(results_1[1], num_wells, unit_profit, budget)\n",
    "bootstrap_results_2 = bootstrap_profit(results_2[1], num_wells, unit_profit, budget)\n",
    "\n",
    "# Show results\n",
    "print(\"\\nBootstrapping Results by Region:\")\n",
    "for i, results in enumerate([bootstrap_results_0, bootstrap_results_1, bootstrap_results_2]):\n",
    "    print(f\"\\nRegión {i}:\")\n",
    "    print(f\"Average profit: ${results['average_profit']:,.2f}\")\n",
    "    print(f\"95% confidence interval: ${results['confidence_interval'][0]:,.2f} - ${results['confidence_interval'][1]:,.2f}\")\n",
    "    print(f\"Loss risk: {results['loss_risk']:,.2f}%\")"
   ]
  },
  {
   "cell_type": "markdown",
   "metadata": {},
   "source": [
    "## Conclusions."
   ]
  },
  {
   "cell_type": "markdown",
   "metadata": {},
   "source": [
    "According to the results, Region 0 has the highest average profit and a narrow confidence interval, indicating high reliability in the estimated profits. On the other hand, Region 1 has the lowest average profit among the three regions, but the confidence interval is extremely narrow, suggesting highly predictable behavior in this region. Finally, Region 2 has a considerably high average profit, although lower than that of Region 0. Its confidence interval is also reasonably narrow, indicating reliability. <br> <br>\n",
    "In conclusion, investing in Region 0 is recommended. This approach would maximize expected average profits while maintaining zero risk of loss and a high level of confidence. The high profitability in this region is consistent and supported by a narrow confidence interval.\n",
    "\n"
   ]
  }
 ],
 "metadata": {
  "ExecuteTimeLog": [
   {
    "duration": 2,
    "start_time": "2025-01-14T03:13:18.237Z"
   },
   {
    "duration": 326,
    "start_time": "2025-01-14T03:13:44.133Z"
   },
   {
    "duration": 507,
    "start_time": "2025-01-14T03:15:52.578Z"
   },
   {
    "duration": 326,
    "start_time": "2025-01-14T03:16:17.218Z"
   },
   {
    "duration": 220,
    "start_time": "2025-01-14T03:22:29.826Z"
   },
   {
    "duration": 13,
    "start_time": "2025-01-14T03:25:05.213Z"
   },
   {
    "duration": 12,
    "start_time": "2025-01-14T03:25:15.773Z"
   },
   {
    "duration": 14,
    "start_time": "2025-01-14T03:25:46.864Z"
   },
   {
    "duration": 33,
    "start_time": "2025-01-14T03:25:49.710Z"
   },
   {
    "duration": 10,
    "start_time": "2025-01-14T03:27:16.395Z"
   },
   {
    "duration": 12,
    "start_time": "2025-01-14T03:27:37.535Z"
   },
   {
    "duration": 32,
    "start_time": "2025-01-14T03:27:46.951Z"
   },
   {
    "duration": 7,
    "start_time": "2025-01-14T03:27:56.477Z"
   },
   {
    "duration": 7,
    "start_time": "2025-01-14T03:28:12.576Z"
   },
   {
    "duration": 11,
    "start_time": "2025-01-14T03:28:28.636Z"
   },
   {
    "duration": 31,
    "start_time": "2025-01-14T03:28:39.137Z"
   },
   {
    "duration": 8,
    "start_time": "2025-01-14T03:31:49.190Z"
   },
   {
    "duration": 7,
    "start_time": "2025-01-14T03:32:28.745Z"
   },
   {
    "duration": 428,
    "start_time": "2025-01-14T03:39:04.377Z"
   },
   {
    "duration": 3,
    "start_time": "2025-01-14T03:57:11.239Z"
   },
   {
    "duration": 3,
    "start_time": "2025-01-14T03:57:21.894Z"
   },
   {
    "duration": 3,
    "start_time": "2025-01-14T03:57:47.419Z"
   },
   {
    "duration": 3,
    "start_time": "2025-01-14T03:59:24.003Z"
   },
   {
    "duration": 3,
    "start_time": "2025-01-14T04:01:03.557Z"
   },
   {
    "duration": 784,
    "start_time": "2025-01-14T20:53:06.169Z"
   },
   {
    "duration": 308,
    "start_time": "2025-01-14T20:53:06.955Z"
   },
   {
    "duration": 15,
    "start_time": "2025-01-14T20:53:07.265Z"
   },
   {
    "duration": 16,
    "start_time": "2025-01-14T20:53:07.282Z"
   },
   {
    "duration": 35,
    "start_time": "2025-01-14T20:53:07.309Z"
   },
   {
    "duration": 7,
    "start_time": "2025-01-14T20:53:07.346Z"
   },
   {
    "duration": 12,
    "start_time": "2025-01-14T20:53:07.355Z"
   },
   {
    "duration": 59,
    "start_time": "2025-01-14T20:53:07.369Z"
   },
   {
    "duration": 8,
    "start_time": "2025-01-14T20:53:07.429Z"
   },
   {
    "duration": 11,
    "start_time": "2025-01-14T20:53:07.438Z"
   },
   {
    "duration": 32,
    "start_time": "2025-01-14T20:53:07.451Z"
   },
   {
    "duration": 30,
    "start_time": "2025-01-14T20:53:07.485Z"
   },
   {
    "duration": 8,
    "start_time": "2025-01-14T20:53:07.517Z"
   },
   {
    "duration": 2,
    "start_time": "2025-01-14T20:53:07.528Z"
   },
   {
    "duration": 4,
    "start_time": "2025-01-14T20:53:07.532Z"
   },
   {
    "duration": 808,
    "start_time": "2025-01-14T23:46:18.322Z"
   },
   {
    "duration": 297,
    "start_time": "2025-01-14T23:46:19.132Z"
   },
   {
    "duration": 12,
    "start_time": "2025-01-14T23:46:19.431Z"
   },
   {
    "duration": 11,
    "start_time": "2025-01-14T23:46:19.445Z"
   },
   {
    "duration": 31,
    "start_time": "2025-01-14T23:46:19.459Z"
   },
   {
    "duration": 9,
    "start_time": "2025-01-14T23:46:19.508Z"
   },
   {
    "duration": 11,
    "start_time": "2025-01-14T23:46:19.519Z"
   },
   {
    "duration": 30,
    "start_time": "2025-01-14T23:46:19.532Z"
   },
   {
    "duration": 7,
    "start_time": "2025-01-14T23:46:19.564Z"
   },
   {
    "duration": 39,
    "start_time": "2025-01-14T23:46:19.573Z"
   },
   {
    "duration": 32,
    "start_time": "2025-01-14T23:46:19.614Z"
   },
   {
    "duration": 9,
    "start_time": "2025-01-14T23:46:19.647Z"
   },
   {
    "duration": 8,
    "start_time": "2025-01-14T23:46:19.658Z"
   },
   {
    "duration": 3,
    "start_time": "2025-01-14T23:46:19.668Z"
   },
   {
    "duration": 3,
    "start_time": "2025-01-14T23:46:19.673Z"
   },
   {
    "duration": 31,
    "start_time": "2025-01-14T23:46:19.678Z"
   },
   {
    "duration": 4,
    "start_time": "2025-01-15T00:57:39.750Z"
   },
   {
    "duration": 2,
    "start_time": "2025-01-15T00:58:00.366Z"
   },
   {
    "duration": 331,
    "start_time": "2025-01-15T00:58:16.672Z"
   },
   {
    "duration": 64,
    "start_time": "2025-01-15T00:58:27.148Z"
   },
   {
    "duration": 4,
    "start_time": "2025-01-15T01:02:14.190Z"
   },
   {
    "duration": 108,
    "start_time": "2025-01-15T01:02:16.812Z"
   },
   {
    "duration": 1025,
    "start_time": "2025-01-15T23:45:46.453Z"
   },
   {
    "duration": 403,
    "start_time": "2025-01-15T23:45:47.485Z"
   },
   {
    "duration": 18,
    "start_time": "2025-01-15T23:45:47.890Z"
   },
   {
    "duration": 27,
    "start_time": "2025-01-15T23:45:47.911Z"
   },
   {
    "duration": 50,
    "start_time": "2025-01-15T23:45:47.941Z"
   },
   {
    "duration": 11,
    "start_time": "2025-01-15T23:45:47.993Z"
   },
   {
    "duration": 14,
    "start_time": "2025-01-15T23:45:48.006Z"
   },
   {
    "duration": 44,
    "start_time": "2025-01-15T23:45:48.034Z"
   },
   {
    "duration": 9,
    "start_time": "2025-01-15T23:45:48.080Z"
   },
   {
    "duration": 14,
    "start_time": "2025-01-15T23:45:48.092Z"
   },
   {
    "duration": 76,
    "start_time": "2025-01-15T23:45:48.109Z"
   },
   {
    "duration": 10,
    "start_time": "2025-01-15T23:45:48.188Z"
   },
   {
    "duration": 9,
    "start_time": "2025-01-15T23:45:48.200Z"
   },
   {
    "duration": 3,
    "start_time": "2025-01-15T23:45:48.211Z"
   },
   {
    "duration": 20,
    "start_time": "2025-01-15T23:45:48.216Z"
   },
   {
    "duration": 8,
    "start_time": "2025-01-15T23:45:48.239Z"
   },
   {
    "duration": 5,
    "start_time": "2025-01-15T23:45:48.251Z"
   },
   {
    "duration": 190,
    "start_time": "2025-01-15T23:45:48.258Z"
   },
   {
    "duration": 4,
    "start_time": "2025-01-16T00:13:57.159Z"
   },
   {
    "duration": 4,
    "start_time": "2025-01-16T00:15:43.215Z"
   },
   {
    "duration": 5,
    "start_time": "2025-01-16T00:19:53.395Z"
   },
   {
    "duration": 122,
    "start_time": "2025-01-16T00:19:58.850Z"
   },
   {
    "duration": 51,
    "start_time": "2025-01-16T00:29:52.487Z"
   },
   {
    "duration": 150,
    "start_time": "2025-01-16T00:30:10.849Z"
   },
   {
    "duration": 4,
    "start_time": "2025-01-16T00:32:43.082Z"
   },
   {
    "duration": 4,
    "start_time": "2025-01-16T00:32:46.295Z"
   },
   {
    "duration": 27,
    "start_time": "2025-01-16T00:32:49.370Z"
   },
   {
    "duration": 4,
    "start_time": "2025-01-16T00:33:01.265Z"
   },
   {
    "duration": 4,
    "start_time": "2025-01-16T00:33:08.475Z"
   },
   {
    "duration": 4,
    "start_time": "2025-01-16T00:33:18.149Z"
   },
   {
    "duration": 4,
    "start_time": "2025-01-16T00:33:24.308Z"
   },
   {
    "duration": 39,
    "start_time": "2025-01-16T00:33:28.430Z"
   },
   {
    "duration": 5,
    "start_time": "2025-01-16T00:34:31.826Z"
   },
   {
    "duration": 9,
    "start_time": "2025-01-16T00:35:12.640Z"
   },
   {
    "duration": 6,
    "start_time": "2025-01-16T00:36:09.783Z"
   },
   {
    "duration": 5,
    "start_time": "2025-01-16T00:36:20.828Z"
   },
   {
    "duration": 20,
    "start_time": "2025-01-16T00:37:24.138Z"
   },
   {
    "duration": 8,
    "start_time": "2025-01-16T00:37:32.524Z"
   },
   {
    "duration": 5383,
    "start_time": "2025-01-16T00:54:24.910Z"
   },
   {
    "duration": 750,
    "start_time": "2025-01-16T15:38:28.666Z"
   },
   {
    "duration": 300,
    "start_time": "2025-01-16T15:38:29.418Z"
   },
   {
    "duration": 11,
    "start_time": "2025-01-16T15:38:29.720Z"
   },
   {
    "duration": 12,
    "start_time": "2025-01-16T15:38:29.733Z"
   },
   {
    "duration": 31,
    "start_time": "2025-01-16T15:38:29.746Z"
   },
   {
    "duration": 7,
    "start_time": "2025-01-16T15:38:29.779Z"
   },
   {
    "duration": 32,
    "start_time": "2025-01-16T15:38:29.787Z"
   },
   {
    "duration": 30,
    "start_time": "2025-01-16T15:38:29.820Z"
   },
   {
    "duration": 7,
    "start_time": "2025-01-16T15:38:29.852Z"
   },
   {
    "duration": 10,
    "start_time": "2025-01-16T15:38:29.862Z"
   },
   {
    "duration": 57,
    "start_time": "2025-01-16T15:38:29.875Z"
   },
   {
    "duration": 9,
    "start_time": "2025-01-16T15:38:29.934Z"
   },
   {
    "duration": 11,
    "start_time": "2025-01-16T15:38:29.945Z"
   },
   {
    "duration": 7,
    "start_time": "2025-01-16T15:38:29.958Z"
   },
   {
    "duration": 4,
    "start_time": "2025-01-16T15:38:29.966Z"
   },
   {
    "duration": 3,
    "start_time": "2025-01-16T15:38:29.972Z"
   },
   {
    "duration": 4,
    "start_time": "2025-01-16T15:38:29.977Z"
   },
   {
    "duration": 138,
    "start_time": "2025-01-16T15:38:29.983Z"
   },
   {
    "duration": 4,
    "start_time": "2025-01-16T15:38:30.123Z"
   },
   {
    "duration": 84,
    "start_time": "2025-01-16T15:38:30.128Z"
   },
   {
    "duration": 8,
    "start_time": "2025-01-16T15:38:30.213Z"
   },
   {
    "duration": 5254,
    "start_time": "2025-01-16T15:39:23.024Z"
   }
  ],
  "kernelspec": {
   "display_name": "base",
   "language": "python",
   "name": "python3"
  },
  "language_info": {
   "codemirror_mode": {
    "name": "ipython",
    "version": 3
   },
   "file_extension": ".py",
   "mimetype": "text/x-python",
   "name": "python",
   "nbconvert_exporter": "python",
   "pygments_lexer": "ipython3",
   "version": "3.12.4"
  },
  "toc": {
   "base_numbering": 1,
   "nav_menu": {},
   "number_sections": true,
   "sideBar": true,
   "skip_h1_title": true,
   "title_cell": "Table of Contents",
   "title_sidebar": "Contents",
   "toc_cell": false,
   "toc_position": {},
   "toc_section_display": true,
   "toc_window_display": false
  }
 },
 "nbformat": 4,
 "nbformat_minor": 2
}
